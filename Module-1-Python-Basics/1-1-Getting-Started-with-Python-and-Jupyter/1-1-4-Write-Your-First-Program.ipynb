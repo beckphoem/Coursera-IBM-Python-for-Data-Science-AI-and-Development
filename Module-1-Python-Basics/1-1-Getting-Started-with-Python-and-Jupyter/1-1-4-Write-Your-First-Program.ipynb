{
 "cells": [
  {
   "cell_type": "markdown",
   "metadata": {},
   "source": [
    "# Writing Your First Python Code\n",
    "\n",
    "Estimated time needed: **10** minutes\n"
   ]
  },
  {
   "cell_type": "markdown",
   "metadata": {},
   "source": [
    "## Objectives:\n",
    "\n",
    "After completing this lab you will be able to:\n",
    "\n",
    "- Write your basic python code"
   ]
  },
  {
   "cell_type": "markdown",
   "metadata": {
    "vscode": {
     "languageId": "plaintext"
    }
   },
   "source": [
    "## Table of contents\n",
    "\n",
    "- [Say 'Hello' to the world in Python](#python-hello)\n",
    "  - What version of Python are we using?\n",
    "  - Writing comments in Python\n",
    "  - [Errors in Python](#python-errors)\n",
    "  - Does Python know about your error before it runs your code?\n",
    "  - Exercise: Your First Program.\n"
   ]
  },
  {
   "cell_type": "markdown",
   "metadata": {},
   "source": [
    "## Say 'Hello' to the world in Python <a id=\"python-hello\"></a>\n",
    "\n",
    "When learning a new programming language, it is customary to start with an \"hello world\" example. As simple as it is, this one line of code will ensure that we know how to print a string in output and how to execute code within cells in a notebook.\n",
    "\n",
    "> [Tip] : To execute the Python code in the code cell below, click on the cell to select it and press `Shift` + `Enter`"
   ]
  },
  {
   "cell_type": "code",
   "execution_count": 1,
   "metadata": {},
   "outputs": [
    {
     "name": "stdout",
     "output_type": "stream",
     "text": [
      "Hello, Python!\n"
     ]
    }
   ],
   "source": [
    "# try your first Python output\n",
    "\n",
    "print('Hello, Python!')"
   ]
  },
  {
   "cell_type": "markdown",
   "metadata": {},
   "source": [
    "After executing the cell above, you should see that Python prints `Hello, Python!`. Congratulations on running your first Python code!"
   ]
  },
  {
   "cell_type": "markdown",
   "metadata": {},
   "source": [
    "> [Tip] `print()` is a function. You passed the string 'Hello, Python!` as an argument to instruct Python on what to print."
   ]
  },
  {
   "cell_type": "markdown",
   "metadata": {},
   "source": [
    "## Errors in Python <a id=\"python-errors\"></a>"
   ]
  }
 ],
 "metadata": {
  "kernelspec": {
   "display_name": "Python 3",
   "language": "python",
   "name": "python3"
  },
  "language_info": {
   "codemirror_mode": {
    "name": "ipython",
    "version": 3
   },
   "file_extension": ".py",
   "mimetype": "text/x-python",
   "name": "python",
   "nbconvert_exporter": "python",
   "pygments_lexer": "ipython3",
   "version": "3.10.12"
  }
 },
 "nbformat": 4,
 "nbformat_minor": 2
}
