{
 "cells": [
  {
   "cell_type": "markdown",
   "metadata": {},
   "source": [
    "# Writing Your First Python Code\n",
    "\n",
    "Estimated time needed: **10** minutes\n"
   ]
  },
  {
   "cell_type": "markdown",
   "metadata": {},
   "source": [
    "## Objectives:\n",
    "\n",
    "After completing this lab you will be able to:\n",
    "\n",
    "- Write your basic python code"
   ]
  },
  {
   "cell_type": "markdown",
   "metadata": {
    "vscode": {
     "languageId": "plaintext"
    }
   },
   "source": [
    "## Table of contents\n",
    "\n",
    "- Say 'Hello' to the world in Python\n",
    "  - What version of Python are we using?\n",
    "  - Writing comments in Python\n",
    "  - Errors in Python\n",
    "  - Does Python know about your error before it runs your code?\n",
    "  - Exercise: Your First Program.\n"
   ]
  }
 ],
 "metadata": {
  "language_info": {
   "name": "python"
  }
 },
 "nbformat": 4,
 "nbformat_minor": 2
}
