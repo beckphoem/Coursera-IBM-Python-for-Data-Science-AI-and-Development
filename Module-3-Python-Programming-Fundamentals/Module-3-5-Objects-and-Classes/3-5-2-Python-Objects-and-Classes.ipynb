{
 "cells": [
  {
   "cell_type": "markdown",
   "metadata": {},
   "source": [
    "# Python Objects and Classes\n"
   ]
  },
  {
   "cell_type": "markdown",
   "metadata": {},
   "source": [
    "## Objectives\n",
    "\n",
    "In this reading, you will learn about:\n",
    "\n",
    "- Fundamental concepts of Python objects and classes.\n",
    "- Structure of classes and object code.\n",
    "- Real-world examples related to objects and classes."
   ]
  },
  {
   "cell_type": "markdown",
   "metadata": {},
   "source": [
    "## Introduction to classes and object\n",
    "\n",
    "Python is an object-oriented programming OOP language that uses a paradigm centered around objects and classes.\n",
    "\n",
    "Let's look at these fundamental concepts.\n"
   ]
  },
  {
   "cell_type": "markdown",
   "metadata": {},
   "source": [
    "### Classes \n",
    "\n",
    "A class is a blueprint or template for creating objects. It defines the structure and behavior that its objects will have.\n",
    "\n",
    "Think of a lass as a cookie cutter and objects as the cookies cut from that template.\n",
    "\n",
    "In Python, you can create classes using the `class` keyword.\n"
   ]
  },
  {
   "cell_type": "markdown",
   "metadata": {},
   "source": [
    "#### Creating classes\n",
    "\n",
    "Wehn you create a class, you specify the `attributes` (data) and `methods` (functions) that objects of that class will have. `Attributes` are defined as variables within the class, and `methods` are defined as functions. For example, you can design a 'car' class with attributes such as 'color' and 'speed', along with methods like 'accelerate'."
   ]
  },
  {
   "cell_type": "markdown",
   "metadata": {},
   "source": [
    "### Objects\n",
    "\n",
    "An objects is a fundamental unit in Python that represents a real-word entity or concept.\n",
    "Objects can be tangible (like a car) or abstract (like a student's grade).\n",
    "\n",
    "**Every object has two main characteristics**:\n"
   ]
  },
  {
   "cell_type": "markdown",
   "metadata": {},
   "source": [
    "## State\n",
    "\n",
    "The *attributes* or data that describe the object. For your 'car' object, this might include attributes like 'color', 'speed' and 'fuel level'.\n",
    "\n"
   ]
  },
  {
   "cell_type": "markdown",
   "metadata": {},
   "source": [
    "## Behavior \n",
    "\n",
    "The actions or methods that the object can perfrom. In Python, methods are functions that belong to objects and can change the object's state or perform specific operations.\n",
    "\n"
   ]
  },
  {
   "cell_type": "markdown",
   "metadata": {},
   "source": [
    "### Instantiating objects\n",
    "\n",
    "- Once you've defined a class, you can create individual objects (instances) based on that class.\n",
    "- Each object is independent and has its own set of attributes and methods.\n",
    "- To create an object, you use the class name followed by parentheses, so 'my_car = Car()'"
   ]
  },
  {
   "cell_type": "markdown",
   "metadata": {},
   "source": [
    "### Interacting with objects\n",
    "\n",
    "You interact with objects by calling their methods or accessing their attributes using dot notations\n",
    "\n",
    "For example, if you have a Car object named **my_car** you can set its color with **my_car.color** = \"blue\" and accelerate it with \"my_car.accelerate()\" if there's an accelerate method defined in the class."
   ]
  },
  {
   "cell_type": "markdown",
   "metadata": {},
   "source": [
    "## Structure of classes and object code\n",
    "\n",
    "> Please don't directly copy and use this code because it is a template for explannation and not for specific results."
   ]
  },
  {
   "cell_type": "markdown",
   "metadata": {},
   "source": []
  },
  {
   "cell_type": "markdown",
   "metadata": {},
   "source": [
    "### Class declaration (class ClassName)\n",
    "\n",
    "The `class` keyword is used to declare a class in Python. `ClassName` is the name of the class, typically following CamelCase naming conventions."
   ]
  },
  {
   "cell_type": "markdown",
   "metadata": {},
   "source": [
    "```python\n",
    "class ClassName:\n",
    "```\n"
   ]
  },
  {
   "cell_type": "markdown",
   "metadata": {},
   "source": [
    "### Class attributes (class_attribute = value)\n",
    "\n",
    "Class attributes are variables shared among all class instances (objects). They are defined within the class but outside of any methods."
   ]
  },
  {
   "cell_type": "markdown",
   "metadata": {},
   "source": [
    "```python\n",
    "class ClassName:\n",
    "\t# Class atributes (shared by all instances)\n",
    "\tclass_attribute = value\n",
    "```"
   ]
  },
  {
   "cell_type": "markdown",
   "metadata": {},
   "source": [
    "### Constructor method (def init(self, attribute1, attribute2, ...))"
   ]
  },
  {
   "cell_type": "markdown",
   "metadata": {},
   "source": [
    "```python\n",
    "class ClassName:\n",
    "\t# Class attributes (shared by all instances)\n",
    "\tclass_attribute = value\n",
    "```"
   ]
  },
  {
   "cell_type": "markdown",
   "metadata": {},
   "source": [
    "### Constructor method (def init(self, attribute1, attribute2, ...))\n",
    "\n",
    "The `__init__` method is a special method known as the constructor. It initializes the **instance attributes** (also called instance variable) when an object is created. The `self` parameter is the first parameter of the constructor, referring to the instance being created. `attribute1, attribute2`, and so on are parameters passed to the constructor when creating an object. Inside the constructor, `self.attribute1, self,attribute2` and so on are used to assign values to instance attributes."
   ]
  },
  {
   "cell_type": "markdown",
   "metadata": {},
   "source": [
    "```python\n",
    "class ClassName:\n",
    "\t# Class attributes (shared by all instances)\n",
    "\tclass_attribute = value\n",
    "\n",
    "\t# Constructor method (initialize instance attributes)\n",
    "\n",
    "\tdef __init__(self, attribute1, attribute2, ...):\n",
    "\t\tpass\n",
    "\t\t# ...\n",
    "\n",
    "```"
   ]
  },
  {
   "cell_type": "markdown",
   "metadata": {},
   "source": [
    "## Instance methods (def method1(seft, parameter1, parameter2, ...):)\n",
    "\n",
    "Instance methods are functions defined within the class.\n",
    "\n",
    "They operate on the instance's data (instance attributes) and can perform actions specific to instances.\n",
    "\n",
    "The **self** parameter is required in instance methods, allowing them to access instance attributes and call other methods within the class."
   ]
  },
  {
   "cell_type": "markdown",
   "metadata": {},
   "source": [
    "```python\n",
    "\n",
    "class ClassName: \n",
    "\t# Class attributes (shared by all instances)\n",
    "\tclass_attribute = value\n",
    "\n",
    "\t# Constructor method (initialize instance attributes)\n",
    "\n",
    "\tdef __init__(self, attribute1, attribute2, ...):\n",
    "\t\tself.attribute1 = attribute1\n",
    "\t\tself.attribute2 = attribute2\n",
    "\n",
    "\t# Instance methods (functions)\n",
    "\n",
    "\tdef method1(self, parameter1, parameter2,...):\n",
    "\t\t# Method logic\n",
    "\t\tpass\n",
    "```\n"
   ]
  },
  {
   "cell_type": "markdown",
   "metadata": {},
   "source": [
    "> Using the same steps you can define multiple instance methods."
   ]
  },
  {
   "cell_type": "markdown",
   "metadata": {},
   "source": [
    "```python\n",
    "class ClassName:\n",
    "\t# Class attributes (shared by all instances)\n",
    "\tclass_attribute = value\n",
    "\n",
    "\t# Constructor method (initialize instance attributes)\n",
    "\n",
    "\tdef __init__(self, attribute1, attribute2, ...):\n",
    "\t\tself.attribute1 = attribute2\n",
    "\t\tself.attribute2 = attribute2\n",
    "\t\t# ...\n",
    "\t\n",
    "\t# Instance methods (functions)\n",
    "\tdef method1(self, parameter1, parameter2,...):\n",
    "\t\t# method logic\n",
    "\t\tpass\n",
    "\n",
    "\tdef method2(self, parameter1, parameter2,...):\n",
    "\t\t# method logic\n",
    "\t\tpass\n",
    "```"
   ]
  },
  {
   "cell_type": "markdown",
   "metadata": {},
   "source": [
    "> Note: Now, you have successfully created a dummy class"
   ]
  }
 ],
 "metadata": {
  "kernelspec": {
   "display_name": "Python 3",
   "language": "python",
   "name": "python3"
  },
  "language_info": {
   "codemirror_mode": {
    "name": "ipython",
    "version": 3
   },
   "file_extension": ".py",
   "mimetype": "text/x-python",
   "name": "python",
   "nbconvert_exporter": "python",
   "pygments_lexer": "ipython3",
   "version": "3.10.12"
  }
 },
 "nbformat": 4,
 "nbformat_minor": 2
}
