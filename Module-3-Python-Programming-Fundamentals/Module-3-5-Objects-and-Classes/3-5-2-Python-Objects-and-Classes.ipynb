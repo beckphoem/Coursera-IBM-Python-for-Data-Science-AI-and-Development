{
 "cells": [
  {
   "cell_type": "markdown",
   "metadata": {},
   "source": [
    "# Python Objects and Classes\n"
   ]
  },
  {
   "cell_type": "markdown",
   "metadata": {},
   "source": [
    "## Objectives\n",
    "\n",
    "In this reading, you will learn about:\n",
    "\n",
    "- Fundamental concepts of Python objects and classes.\n",
    "- Structure of classes and object code.\n",
    "- Real-world examples related to objects and classes."
   ]
  },
  {
   "cell_type": "markdown",
   "metadata": {},
   "source": [
    "## Introduction to classes and object\n",
    "\n",
    "Python is an object-oriented programming OOP language that uses a paradigm centered around objects and classes.\n",
    "\n",
    "Let's look at these fundamental concepts.\n"
   ]
  },
  {
   "cell_type": "markdown",
   "metadata": {},
   "source": [
    "### Classes \n",
    "\n",
    "A class is a blueprint or template for creating objects. It defines the structure and behavior that its objects will have.\n",
    "\n",
    "Think of a lass as a cookie cutter and objects as the cookies cut from that template.\n",
    "\n",
    "In Python, you can create classes using the `class` keyword.\n"
   ]
  },
  {
   "cell_type": "markdown",
   "metadata": {},
   "source": [
    "#### Creating classes\n",
    "\n",
    "Wehn you create a class, you specify the `attributes` (data) and `methods` (functions) that objects of that class will have. `Attributes` are defined as variables within the class, and `methods` are defined as functions. For example, you can design a 'car' class with attributes such as 'color' and 'speed', along with methods like 'accelerate'."
   ]
  },
  {
   "cell_type": "markdown",
   "metadata": {},
   "source": [
    "### Objects\n",
    "\n",
    "An objects is a fundamental unit in Python that represents a real-word entity or concept.\n",
    "Objects can be tangible (like a car) or abstract (like a student's grade).\n",
    "\n",
    "**Every object has two main characteristics**:\n"
   ]
  },
  {
   "cell_type": "markdown",
   "metadata": {},
   "source": [
    "## State\n",
    "\n",
    "The *attributes* or data that describe the object. For your 'car' object, this might include attributes like 'color', 'speed' and 'fuel level'.\n",
    "\n"
   ]
  }
 ],
 "metadata": {
  "kernelspec": {
   "display_name": "Python 3",
   "language": "python",
   "name": "python3"
  },
  "language_info": {
   "name": "python",
   "version": "3.10.12"
  }
 },
 "nbformat": 4,
 "nbformat_minor": 2
}
