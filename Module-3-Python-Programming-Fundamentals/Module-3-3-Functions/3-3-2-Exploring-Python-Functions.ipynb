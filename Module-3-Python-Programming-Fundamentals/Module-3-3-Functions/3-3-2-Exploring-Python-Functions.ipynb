{
 "cells": [
  {
   "cell_type": "markdown",
   "metadata": {},
   "source": [
    "# Exploring Python Functions\n"
   ]
  },
  {
   "cell_type": "markdown",
   "metadata": {
    "vscode": {
     "languageId": "plaintext"
    }
   },
   "source": [
    "## Objectives:\n",
    "\n",
    "By the end of this reading, you should be able to:\n",
    "\n",
    "1. Describe the function concept and the importance of functions in programming\n",
    "2. Write a function that takes inputs and performs tasks\n",
    "3. Use built-in functions like `len()`, `sum()`, and others effectively\n",
    "4. Define and use your functions in Python\n",
    "5. Differentiate between golobal and local variable scopes.\n",
    "6. Use loops within the function\n",
    "7. Modify data structures using functions."
   ]
  },
  {
   "cell_type": "markdown",
   "metadata": {},
   "source": [
    "### Introduction to functions\n",
    "\n",
    "A function is a fundamental building block that encapsultates specific actions or computations. As in mathematics, where functions take inputs and produce outputs, programming functions perform similarly. They take inputs, execute predefined actions or calculations, and then return an output."
   ]
  },
  {
   "cell_type": "markdown",
   "metadata": {},
   "source": [
    "#### Purpose of functions\n",
    "\n",
    "Functions promote code modularity and reusablitiy. Imagine you have a task that needs to be performed multiple times within a program. Instead of duplicating the same code at various places, you can define a function once and call it whenever you need that task. This reduces redundancy and makes the code easier to manage and maintain.\n"
   ]
  },
  {
   "cell_type": "markdown",
   "metadata": {},
   "source": [
    "#### Benefies of using functions\n",
    "\n",
    "**Modularity**: Functions break down complex tasks into manageable components\n",
    "\n",
    "**Resuablitity**: Functions can be used mulitple times without rewriting code\n",
    "\n",
    "**Readability**: Functions with meaningful names enhance code understanding\n",
    "\n",
    "**Debugging**: Isolating functions eases troubleshooting and issue fixing\n",
    "\n",
    "**Abstraction**: Functions simplify complex processes behind a user-freindly interface\n",
    "\n",
    "**Collaboration**: Team members can work on different functions concurrently\n",
    "\n",
    "**Maintenance**: Changes made in a function automatically apply whereven it's used. \n",
    "\n"
   ]
  },
  {
   "cell_type": "markdown",
   "metadata": {},
   "source": [
    "### How functions take inputs, peform tasks, and produce outputs\n",
    "\n",
    "#### Inputs (Parameters)\n",
    "\n",
    "Function operate on data, and they can receive data as input. These inputs are known as ***parameter*** or ***arguments***. Parameters provide functions with the necessary information they need to perform their tasks. Consider parameters as values you pass to a funtion, allowing it to work with specific data.\n",
    "\n",
    "\n"
   ]
  },
  {
   "cell_type": "markdown",
   "metadata": {},
   "source": [
    "#### Performing tasks\n",
    "\n",
    "Once a function receives its input (parameters), it executes predefined actions or computations. These actions can include calculations, operations on data, or even more complex tasks. Ther purpose of function determines the tasks it performs. For instance, a function could calculate the sum of numbers, sort a list, format text, or fetch data from a database.\n"
   ]
  },
  {
   "cell_type": "markdown",
   "metadata": {},
   "source": [
    "#### Producing outputs\n",
    "\n",
    "After performing its tasks, a function can produce an output. This output is the result of the operations carried out within the function. It's the value that the function `returns` to the code that called it. Think of the output as the end product of the function's work. You can use this output in your code, assign it to variables, pass it to other functions, or even print it out for display.\n",
    "\n",
    "Example:\n",
    "\n",
    "Consider a function named `calculate_total` that takes two numbers as input (parameters), adds them together, and then produces the sum as the output. Here's how it works:"
   ]
  },
  {
   "cell_type": "code",
   "execution_count": null,
   "metadata": {},
   "outputs": [],
   "source": [
    "def calculate_total(a, b):\t# Parameters: a and b\n",
    "\ttotal = a + b\t\t\t# Task: addition\n",
    "\treturn total \t\t\t# Output: Sum of a and b\n",
    "\n",
    "result = calculate_total(5, 7)\t# Calling the function with inputs 5 and 7\n",
    "print(result)\t\t\t\t# Output: 12"
   ]
  }
 ],
 "metadata": {
  "kernelspec": {
   "display_name": "Python 3",
   "language": "python",
   "name": "python3"
  },
  "language_info": {
   "name": "python",
   "version": "3.10.12"
  }
 },
 "nbformat": 4,
 "nbformat_minor": 2
}
