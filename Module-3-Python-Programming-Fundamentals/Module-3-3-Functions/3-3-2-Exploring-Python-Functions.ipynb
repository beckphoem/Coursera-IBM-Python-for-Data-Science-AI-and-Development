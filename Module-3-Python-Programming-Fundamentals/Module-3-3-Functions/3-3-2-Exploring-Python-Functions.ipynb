{
 "cells": [
  {
   "cell_type": "markdown",
   "metadata": {},
   "source": [
    "# Exploring Python Functions\n"
   ]
  },
  {
   "cell_type": "markdown",
   "metadata": {
    "vscode": {
     "languageId": "plaintext"
    }
   },
   "source": [
    "## Objectives:\n",
    "\n",
    "By the end of this reading, you should be able to:\n",
    "\n",
    "1. Describe the function concept and the importance of functions in programming\n",
    "2. Write a function that takes inputs and performs tasks\n",
    "3. Use built-in functions like `len()`, `sum()`, and others effectively\n",
    "4. Define and use your functions in Python\n",
    "5. Differentiate between golobal and local variable scopes.\n",
    "6. Use loops within the function\n",
    "7. Modify data structures using functions."
   ]
  },
  {
   "cell_type": "markdown",
   "metadata": {},
   "source": [
    "### Introduction to functions\n",
    "\n",
    "A function is a fundamental building block that encapsultates specific actions or computations. As in mathematics, where functions take inputs and produce outputs, programming functions perform similarly. They take inputs, execute predefined actions or calculations, and then return an output."
   ]
  },
  {
   "cell_type": "markdown",
   "metadata": {},
   "source": [
    "#### Purpose of functions\n",
    "\n",
    "Functions promote code modularity and reusablitiy. Imagine you have a task that needs to be performed multiple times within a program. Instead of duplicating the same code at various places, you can define a function once and call it whenever you need that task. This reduces redundancy and makes the code easier to manage and maintain.\n"
   ]
  },
  {
   "cell_type": "markdown",
   "metadata": {},
   "source": [
    "#### Benefies of using functions\n",
    "\n",
    "**Modularity**: Functions break down complex tasks into manageable components\n",
    "\n",
    "**Resuablitity**: Functions can be used mulitple times without rewriting code\n",
    "\n",
    "**Readability**: Functions with meaningful names enhance code understanding\n",
    "\n",
    "**Debugging**: Isolating functions eases troubleshooting and issue fixing\n",
    "\n",
    "**Abstraction**: Functions simplify complex processes behind a user-freindly interface\n",
    "\n",
    "**Collaboration**: Team members can work on different functions concurrently\n",
    "\n",
    "**Maintenance**: Changes made in a function automatically apply whereven it's used. \n",
    "\n"
   ]
  },
  {
   "cell_type": "markdown",
   "metadata": {},
   "source": [
    "### How functions take inputs, peform tasks, and produce outputs\n",
    "\n",
    "#### Inputs (Parameters)\n",
    "\n",
    "Function operate on data, and they can receive data as input. These inputs are known as ***parameter*** or ***arguments***. Parameters provide functions with the necessary information they need to perform their tasks. Consider parameters as values you pass to a funtion, allowing it to work with specific data.\n",
    "\n",
    "\n"
   ]
  },
  {
   "cell_type": "markdown",
   "metadata": {},
   "source": [
    "#### Performing tasks\n",
    "\n",
    "Once a function receives its input (parameters), it executes predefined actions or computations. These actions can include calculations, operations on data, or even more complex tasks. Ther purpose of function determines the tasks it performs. For instance, a function could calculate the sum of numbers, sort a list, format text, or fetch data from a database.\n"
   ]
  },
  {
   "cell_type": "markdown",
   "metadata": {},
   "source": [
    "#### Producing outputs\n",
    "\n",
    "After performing its tasks, a function can produce an output. This output is the result of the operations carried out within the function. It's the value that the function `returns` to the code that called it. Think of the output as the end product of the function's work. You can use this output in your code, assign it to variables, pass it to other functions, or even print it out for display.\n",
    "\n",
    "Example:\n",
    "\n",
    "Consider a function named `calculate_total` that takes two numbers as input (parameters), adds them together, and then produces the sum as the output. Here's how it works:"
   ]
  },
  {
   "cell_type": "code",
   "execution_count": 6,
   "metadata": {},
   "outputs": [
    {
     "name": "stdout",
     "output_type": "stream",
     "text": [
      "12\n"
     ]
    }
   ],
   "source": [
    "def calculate_total(a, b):\t# Parameters: a and b\n",
    "\ttotal = a + b\t\t\t# Task: addition\n",
    "\treturn total \t\t\t# Output: Sum of a and b\n",
    "\n",
    "result = calculate_total(5, 7)\t# Calling the function with inputs 5 and 7\n",
    "print(result)\t\t\t\t# Output: 12"
   ]
  },
  {
   "cell_type": "markdown",
   "metadata": {},
   "source": [
    "### Python's built-in functions\n",
    "\n",
    "Python has a rich set of built-in functions that provide a wide range of functionalities. These functions are readily available for you to use, and you don't need to be concered about how they are implemented internally. Instead, you can focus on understanding what each function does and how to use it effectively.\n"
   ]
  },
  {
   "cell_type": "markdown",
   "metadata": {},
   "source": [
    "#### Using built-in functions or Pre-defined functions.\n",
    "\n",
    "To use a built-in function, you simply call the function's name followed by parentheses. Any required arguments or parameters are passed into the function within these parentheses. The function then performs its predefined task and may return an output you can use in your code.\n",
    "\n",
    "Here are a few examples of commonly used built-in functions:\n",
    "\n",
    "**len()**: Calculates the length of a sequence or collection"
   ]
  },
  {
   "cell_type": "code",
   "execution_count": 7,
   "metadata": {},
   "outputs": [],
   "source": [
    "string_length = len('hello world!') \t# Output: 13\n",
    "list_length = len([1, 2, 3, 4, 5])"
   ]
  },
  {
   "cell_type": "markdown",
   "metadata": {},
   "source": [
    "**sum()** Adds up the elements in an iterable (list, tuple, and so on)"
   ]
  },
  {
   "cell_type": "code",
   "execution_count": 8,
   "metadata": {},
   "outputs": [],
   "source": [
    "total = sum([10, 20, 30, 40, 50])"
   ]
  },
  {
   "cell_type": "markdown",
   "metadata": {},
   "source": [
    "**max()**: Returns the maximum value in an iterable"
   ]
  },
  {
   "cell_type": "code",
   "execution_count": 9,
   "metadata": {},
   "outputs": [],
   "source": [
    "highest = max([5, 12, 8, 23, 16])"
   ]
  },
  {
   "cell_type": "markdown",
   "metadata": {},
   "source": [
    "**min():** Returns the minimum value in an iterable"
   ]
  },
  {
   "cell_type": "code",
   "execution_count": 10,
   "metadata": {},
   "outputs": [],
   "source": [
    "lowest = min([5, 12, 8, 23, 16])"
   ]
  },
  {
   "cell_type": "markdown",
   "metadata": {},
   "source": [
    "Python's built-in functions offer a wide array of functionalities, from basic operations like len() and sum() to mroe specialized tasks."
   ]
  },
  {
   "cell_type": "markdown",
   "metadata": {},
   "source": [
    "### Defining your functions\n",
    "\n",
    "Defining a function is like creating your mini-program:\n",
    "1. Use `def` followed by the function name and parentheses:\n",
    "\n",
    "Here is the syntax to define a function:"
   ]
  },
  {
   "cell_type": "code",
   "execution_count": 11,
   "metadata": {},
   "outputs": [],
   "source": [
    "def function_name():\n",
    "\tpass"
   ]
  },
  {
   "cell_type": "markdown",
   "metadata": {},
   "source": [
    "A `\"pass\"` statement in a programming function is a placeholder or a no-op (no opeartion) statement. Use it when you want to define a function or a code block syntactically but do not want to specify any functionality or implementation at the moment.\n",
    "\n",
    "- **Plaseholder** `pass` acts as a temporaty placeholder for future code that you intend to write within a function or a code block.\n",
    "- **Syntax Requirement**: In many programming languages like Python, using `pass` is necessary when you define a function or a conditional block. It ensures that the code remains syntacically correct, even if it doesn't do anything yet.\n",
    "\n",
    "- **No Opeartion**: `pass` itself doesn't perform any meaningful action. When the interpreter encounters `pass`, it simply moves on teh the next statement without executing any code.\n"
   ]
  },
  {
   "cell_type": "markdown",
   "metadata": {},
   "source": [
    "#### Function Parameters:\n",
    "\n",
    "- Patameters are like inputs for functions\n",
    "\n",
    "- They go inside parentheses when defining the function\n",
    "\n",
    "- Functions can have multiple parametes\n",
    "\n"
   ]
  },
  {
   "cell_type": "markdown",
   "metadata": {},
   "source": [
    "Example:"
   ]
  },
  {
   "cell_type": "code",
   "execution_count": 12,
   "metadata": {},
   "outputs": [
    {
     "name": "stdout",
     "output_type": "stream",
     "text": [
      "Hello, Alice\n",
      "None\n"
     ]
    }
   ],
   "source": [
    "def greet(name):\n",
    "\tprint('Hello, ' + name)\n",
    "\n",
    "result = greet('Alice')\n",
    "print(result)\t# Output: Hello, Alice"
   ]
  },
  {
   "cell_type": "markdown",
   "metadata": {},
   "source": [
    "#### Docstrings (Documentation Strings)\n",
    "\n",
    "- Docstrings explain what a function does\n",
    "- Placed inside triple quotes under the function definition\n",
    "- Help other developers understand your function\n",
    "\n",
    "Example:\n"
   ]
  },
  {
   "cell_type": "code",
   "execution_count": 13,
   "metadata": {},
   "outputs": [
    {
     "name": "stdout",
     "output_type": "stream",
     "text": [
      "12\n"
     ]
    }
   ],
   "source": [
    "def multiply(a, b):\n",
    "\t'''\n",
    "\tThis function multiplies two numbers.\n",
    "\tInput: a (number), b (number)\n",
    "\tOutput: Product of a and b\n",
    "\t'''\n",
    "\n",
    "\tprint(a * b)\n",
    "\n",
    "multiply(2, 6)"
   ]
  },
  {
   "cell_type": "markdown",
   "metadata": {},
   "source": [
    "#### Return statement\n",
    "- Return gives back a value from a function\n",
    "- Ends the function's execution and sends the result\n",
    "- A function can return various types of data\n",
    "\n",
    "Example:"
   ]
  },
  {
   "cell_type": "code",
   "execution_count": 14,
   "metadata": {},
   "outputs": [],
   "source": [
    "def add(a, b):\n",
    "\treturn a + b\n",
    "\n",
    "sum_result = add(3, 5)\t# sum_result gets the value 8"
   ]
  },
  {
   "cell_type": "markdown",
   "metadata": {},
   "source": [
    "### Understanding scopes and variables\n",
    "\n",
    "Scope is where a variable can be seen and used:\n",
    "\n",
    "- **Global Scope**: Variables defined outside functions; accessible everywhere\n",
    "- **Local Scope**: Variables inside functions; only usable within that function\n",
    "\n",
    "Example:\n",
    "\n",
    "#### Part 1: Global variable declaration\n",
    "\n"
   ]
  },
  {
   "cell_type": "code",
   "execution_count": 15,
   "metadata": {},
   "outputs": [],
   "source": [
    "global_variable = \"I'm global\""
   ]
  },
  {
   "cell_type": "markdown",
   "metadata": {},
   "source": [
    "This line initializes a global variable called `global_variable` and assigns it the value \"I'm global\""
   ]
  },
  {
   "cell_type": "markdown",
   "metadata": {},
   "source": [
    "> Global variables are accesible throughout the entire program, both inside and outside functions.\n"
   ]
  },
  {
   "cell_type": "markdown",
   "metadata": {},
   "source": [
    "#### Part 2: Function definition"
   ]
  },
  {
   "cell_type": "code",
   "execution_count": 16,
   "metadata": {},
   "outputs": [],
   "source": [
    "def example_function():\n",
    "\tlocal_variable = \"I'm local\"\n",
    "\tprint(global_variable) # Accessing global variable\n",
    "\tprint(local_variable)\n",
    "\t"
   ]
  },
  {
   "cell_type": "markdown",
   "metadata": {},
   "source": [
    "Here, you define a funtion called `example_function()`\n",
    "\n",
    "Within this function:\n",
    "\n",
    "- A local variable named local_variable is declared and initialized with the string value \"I'm local\". This variable is local to the function and can only be  accessed within the function's scope.\n",
    "- The function then prints the values of both the **global variable (global_variable) and the local variable (local_variable)**. It demonstrates that you can access global and local variables within a function"
   ]
  },
  {
   "cell_type": "markdown",
   "metadata": {},
   "source": [
    "### Part 3: Function call"
   ]
  },
  {
   "cell_type": "code",
   "execution_count": 17,
   "metadata": {},
   "outputs": [
    {
     "name": "stdout",
     "output_type": "stream",
     "text": [
      "I'm global\n",
      "I'm local\n"
     ]
    }
   ],
   "source": [
    "example_function()"
   ]
  },
  {
   "cell_type": "markdown",
   "metadata": {},
   "source": [
    "In this part, you call the `example_function()` by invoking it. This results in the function's code being executed.\n",
    "\n",
    "As a result of this function call, it will print the values of the global and local variables within the function."
   ]
  },
  {
   "cell_type": "markdown",
   "metadata": {},
   "source": [
    "#### Part 4: Accessing global variable outside the function"
   ]
  },
  {
   "cell_type": "code",
   "execution_count": 18,
   "metadata": {},
   "outputs": [
    {
     "name": "stdout",
     "output_type": "stream",
     "text": [
      "I'm global\n"
     ]
    }
   ],
   "source": [
    "print(global_variable)"
   ]
  },
  {
   "cell_type": "markdown",
   "metadata": {},
   "source": [
    "After calling the function, you print the value of the global variable `global_variable` outside the funtion. **This demonstrates that global variables are accessible inside and outside of funtions**"
   ]
  },
  {
   "cell_type": "markdown",
   "metadata": {},
   "source": [
    "#### Part 5: Attempting to access local variable outside the function\n"
   ]
  },
  {
   "cell_type": "markdown",
   "metadata": {},
   "source": [
    "In this part, you are attempting to print the value of the local variable `local_variable` outside of the function. However, this line would result in an error."
   ]
  },
  {
   "cell_type": "markdown",
   "metadata": {},
   "source": [
    "> Local variables are only visible and accessible within the scope of the function where they are defined"
   ]
  },
  {
   "cell_type": "markdown",
   "metadata": {},
   "source": [
    "Attempting to access them outside of that scope would raise a `NameError`"
   ]
  },
  {
   "cell_type": "markdown",
   "metadata": {},
   "source": [
    "### Using functions with loops\n",
    "\n",
    "#### Funcitons and loops together\n",
    "\n",
    "1. Functions can contain code with loops\n",
    "2. This makes complex tasks more organized\n",
    "3. The loop code becomes a repeatable function\n",
    "\n",
    "Example:\n",
    "\n"
   ]
  },
  {
   "cell_type": "code",
   "execution_count": 19,
   "metadata": {},
   "outputs": [
    {
     "name": "stdout",
     "output_type": "stream",
     "text": [
      "1\n",
      "2\n",
      "3\n",
      "4\n",
      "5\n"
     ]
    }
   ],
   "source": [
    "def print_numbers(limit):\n",
    "\tfor i in range(1, limit+1):\n",
    "\t\tprint(i)\n",
    "\t\n",
    "print_numbers(5) # Output: 1 2 3 4 5"
   ]
  },
  {
   "cell_type": "markdown",
   "metadata": {},
   "source": [
    "### Modifying data structure using functions\n",
    "\n",
    "You'll use Python and a list as the data structure for this illustration. In this example, you will create functions to add and remove elements from a list.\n",
    "\n",
    "#### Part 1: Initialize an empty list"
   ]
  },
  {
   "cell_type": "code",
   "execution_count": 20,
   "metadata": {},
   "outputs": [],
   "source": [
    "# Define an empty list as the initial data structure\n",
    "\n",
    "my_list = []"
   ]
  },
  {
   "cell_type": "markdown",
   "metadata": {},
   "source": [
    "In this part, you start by creating an empty list named `my_list`. This empty list serves as the data structure that you will modify throughout the code."
   ]
  },
  {
   "cell_type": "markdown",
   "metadata": {},
   "source": [
    "#### Part 2: Define a function to add elements"
   ]
  },
  {
   "cell_type": "code",
   "execution_count": 21,
   "metadata": {},
   "outputs": [],
   "source": [
    "# function to add an element to the list\n",
    "\n",
    "def add_element(data_structure, element):\n",
    "\tdata_structure.append(element)"
   ]
  },
  {
   "cell_type": "markdown",
   "metadata": {},
   "source": [
    "Here, you define a function called `add_element`. This function takes two parameters:\n",
    "\n",
    "- `data_structure`: This parameter represents the list to which you wnat to add an element\n",
    "- `element`: This parameter represents the element you want to add to the list\n",
    "\n",
    "Inside the function, you use the `append` method to add the provided element to the data_structure, which is assumed to be a list."
   ]
  },
  {
   "cell_type": "markdown",
   "metadata": {},
   "source": [
    "### Part 3: Define a function to remove elements\n",
    "\n"
   ]
  },
  {
   "cell_type": "code",
   "execution_count": 22,
   "metadata": {},
   "outputs": [],
   "source": [
    "# Function to remove an element from the list\n",
    "\n",
    "def remove_element(data_structure, element):\n",
    "\tif element in data_structure:\n",
    "\t\tdata_structure.remove(element)\n",
    "\telse:\n",
    "\t\tprint(f\"{element} not found in the list\")\n",
    "\t\t"
   ]
  },
  {
   "cell_type": "markdown",
   "metadata": {},
   "source": [
    "In this part, you define another function called `removed_element`. It also takes two parameters:\n",
    "- `data_structure`: The list from which we want to remove an element\n",
    "- `element`: The element we want to remove from the list"
   ]
  },
  {
   "cell_type": "markdown",
   "metadata": {},
   "source": [
    "Inside the function, you use conditional statements to check if the element is presenst in the data_structure. If it is, you use the `remove` method to remove the first occurrence of the element. If it's not found, you print a message indicating that the element was not found in the list."
   ]
  },
  {
   "cell_type": "markdown",
   "metadata": {},
   "source": [
    "#### Part 4: Add elements to the list"
   ]
  },
  {
   "cell_type": "code",
   "execution_count": 23,
   "metadata": {},
   "outputs": [],
   "source": [
    "# Add elements to the list using the add_element function\n",
    "\n",
    "add_element(my_list, 42)\n",
    "add_element(my_list, 17)\n",
    "add_element(my_list, 99)"
   ]
  },
  {
   "cell_type": "markdown",
   "metadata": {},
   "source": [
    "Here, you use the `add_element` function to add three elements (42, 17 and 99) to the `my_list`. These are added one at a time using function calls.\n"
   ]
  },
  {
   "cell_type": "markdown",
   "metadata": {},
   "source": [
    "#### Part 5: Print the current list\n"
   ]
  },
  {
   "cell_type": "code",
   "execution_count": 25,
   "metadata": {},
   "outputs": [
    {
     "name": "stdout",
     "output_type": "stream",
     "text": [
      "Current list: [42, 17, 99]\n"
     ]
    }
   ],
   "source": [
    "# Print the current list\n",
    "\n",
    "print(\"Current list:\", my_list)"
   ]
  },
  {
   "cell_type": "markdown",
   "metadata": {},
   "source": [
    "This part simply prints the current state of the `my_list` to the console, allowing us to see the elements that have been added so far."
   ]
  },
  {
   "cell_type": "markdown",
   "metadata": {},
   "source": [
    "#### Part 6: Remove elements from the list"
   ]
  },
  {
   "cell_type": "code",
   "execution_count": 26,
   "metadata": {},
   "outputs": [
    {
     "name": "stdout",
     "output_type": "stream",
     "text": [
      "55 not found in the list\n"
     ]
    }
   ],
   "source": [
    "# Remove an element form the list using the remove_element function\n",
    "\n",
    "remove_element(my_list, 17)\n",
    "remove_element(my_list, 55)"
   ]
  },
  {
   "cell_type": "markdown",
   "metadata": {},
   "source": [
    "In this part, you use the `remove_element` function to remove elements from the my_list. First, you attempt to remove 17 (which is in the list), and then you try to remove 55 (which is not in the list). **The second call to** `remove_element` **will print a message indicating that 55 was not found.**"
   ]
  },
  {
   "cell_type": "markdown",
   "metadata": {},
   "source": [
    "#### Part 7: Print the updated list"
   ]
  },
  {
   "cell_type": "code",
   "execution_count": 27,
   "metadata": {},
   "outputs": [
    {
     "name": "stdout",
     "output_type": "stream",
     "text": [
      "Updated list: [42, 99]\n"
     ]
    }
   ],
   "source": [
    "# Print the updated list\n",
    "print('Updated list:', my_list)"
   ]
  },
  {
   "cell_type": "markdown",
   "metadata": {},
   "source": [
    "Finally, you print the updated `my_list` to the console. This allows us to observe the modifications made to the list by adding and removing elements using the defined functions."
   ]
  }
 ],
 "metadata": {
  "kernelspec": {
   "display_name": "Python 3",
   "language": "python",
   "name": "python3"
  },
  "language_info": {
   "codemirror_mode": {
    "name": "ipython",
    "version": 3
   },
   "file_extension": ".py",
   "mimetype": "text/x-python",
   "name": "python",
   "nbconvert_exporter": "python",
   "pygments_lexer": "ipython3",
   "version": "3.10.12"
  }
 },
 "nbformat": 4,
 "nbformat_minor": 2
}
